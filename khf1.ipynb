{
  "nbformat": 4,
  "nbformat_minor": 0,
  "metadata": {
    "colab": {
      "name": "Untitled0.ipynb",
      "provenance": []
    },
    "kernelspec": {
      "name": "python3",
      "display_name": "Python 3"
    }
  },
  "cells": [
    {
      "cell_type": "code",
      "metadata": {
        "id": "brgO-xR_nwEc",
        "colab_type": "code",
        "colab": {}
      },
      "source": [
        "\n",
        "!pip install wikipedia"
      ],
      "execution_count": null,
      "outputs": []
    },
    {
      "cell_type": "code",
      "metadata": {
        "id": "2pQs5LqVpE4y",
        "colab_type": "code",
        "colab": {}
      },
      "source": [
        "\n",
        "import cv2\n",
        "import numpy as np\n",
        "import tensorflow as tf\n",
        "import math\n",
        "import matplotlib.pyplot as plot\n",
        "from scipy.io import wavfile \n",
        "import wikipedia\n",
        "import string\n",
        "from google.colab.patches import cv2_imshow"
      ],
      "execution_count": null,
      "outputs": []
    },
    {
      "cell_type": "markdown",
      "metadata": {
        "id": "MdqDuED2q4Dy",
        "colab_type": "text"
      },
      "source": [
        "**First Task**\n",
        "\n",
        "> few lines are commented out because they are not needed in a jupyter session\n",
        "\n",
        "\n"
      ]
    },
    {
      "cell_type": "code",
      "metadata": {
        "id": "He1me1_YpInf",
        "colab_type": "code",
        "colab": {}
      },
      "source": [
        "png_files = [\"1.png\",\"2.png\",\"3.png\",\"4.png\",\"5.png\"]\n",
        "\n",
        "\n",
        "for f in png_files:\n",
        "    img = cv2.imread(f)                             #When the image file is read with imread the order of colors is BGR\n",
        "    #cv2.imshow(\"Image Viewer\",img)\n",
        "    cv2_imshow(img)                                 #using  cv2_imshow instead of cv2.imshow because cv2.imshow causes jyupiter sessions to crash \n",
        "    img = cv2.cvtColor(img, cv2.COLOR_BGR2RGB)      #We need to convert it to BGR\n",
        "    np.set_printoptions(threshold=np.inf)           #We use this option so the printed matrices are not truncated\n",
        "    print(img)\n",
        "    #cv2.waitKey(0)                                 #Press a key to show the next image and print it's Matrix to the console\n",
        "\n",
        "#cv2.destroyAllWindows()\n"
      ],
      "execution_count": null,
      "outputs": []
    },
    {
      "cell_type": "markdown",
      "metadata": {
        "id": "HL7gNJKdrmhc",
        "colab_type": "text"
      },
      "source": [
        "**Second Task**"
      ]
    },
    {
      "cell_type": "code",
      "metadata": {
        "id": "-W8lC_NXrhvc",
        "colab_type": "code",
        "colab": {
          "base_uri": "https://localhost:8080/",
          "height": 371
        },
        "outputId": "201dfe5a-e271-4e8b-9668-b6050a00fa4d"
      },
      "source": [
        "i= 1\n",
        "for f in png_files:\n",
        "    img = cv2.imread(f) \n",
        "    img = cv2.cvtColor(img, cv2.COLOR_BGR2RGB) \n",
        "    mean,temp = cv2.meanStdDev(img) \n",
        "    print(mean.shape)\n",
        "    print(\"the mean value of the Red Channel in the\",i,\". picture is:\",mean[0][0])\n",
        "    print(\"the mean value of the Green Channel in the\",i,\". picture is:\",mean[1][0])\n",
        "    print(\"the mean value of the Blue Channel in the\",i,\". picture is:\",mean[2][0])\n",
        "    red = img[:, :, 0]\n",
        "    green = img[:, :, 1]\n",
        "    blue = img[:, :, 2] \n",
        "    \n",
        "    print(\"the variance of the Red Channel in the\",i,\". picture is:\",np.var(red))\n",
        "    print(\"the variance of the Green Channel in the\",i,\". picture is:\",np.var(green))\n",
        "    print(\"the variance of the Blue Channel in the\",i,\". picture is:\",np.var(blue))\n",
        "    i += 1\n",
        "    (img-mean)/np.var(img)\n",
        "    \n",
        "    mean,temp = cv2.meanStdDev(red)\n",
        "    print(mean)\n",
        "      \n",
        "    \n",
        " "
      ],
      "execution_count": 32,
      "outputs": [
        {
          "output_type": "stream",
          "text": [
            "(3, 1)\n",
            "the mean value of the Red Channel in the 1 . picture is: 136.868896484375\n",
            "the mean value of the Green Channel in the 1 . picture is: 107.38739013671875\n",
            "the mean value of the Blue Channel in the 1 . picture is: 78.82830810546875\n",
            "the variance of the Red Channel in the 1 . picture is: 10425.506005227566\n",
            "the variance of the Green Channel in the 1 . picture is: 6486.663954760879\n",
            "the variance of the Blue Channel in the 1 . picture is: 7081.0933856628835\n"
          ],
          "name": "stdout"
        },
        {
          "output_type": "error",
          "ename": "ValueError",
          "evalue": "ignored",
          "traceback": [
            "\u001b[0;31m---------------------------------------------------------------------------\u001b[0m",
            "\u001b[0;31mValueError\u001b[0m                                Traceback (most recent call last)",
            "\u001b[0;32m<ipython-input-32-85ad50e1ea0b>\u001b[0m in \u001b[0;36m<module>\u001b[0;34m()\u001b[0m\n\u001b[1;32m     16\u001b[0m     \u001b[0mprint\u001b[0m\u001b[0;34m(\u001b[0m\u001b[0;34m\"the variance of the Blue Channel in the\"\u001b[0m\u001b[0;34m,\u001b[0m\u001b[0mi\u001b[0m\u001b[0;34m,\u001b[0m\u001b[0;34m\". picture is:\"\u001b[0m\u001b[0;34m,\u001b[0m\u001b[0mnp\u001b[0m\u001b[0;34m.\u001b[0m\u001b[0mvar\u001b[0m\u001b[0;34m(\u001b[0m\u001b[0mblue\u001b[0m\u001b[0;34m)\u001b[0m\u001b[0;34m)\u001b[0m\u001b[0;34m\u001b[0m\u001b[0;34m\u001b[0m\u001b[0m\n\u001b[1;32m     17\u001b[0m     \u001b[0mi\u001b[0m \u001b[0;34m+=\u001b[0m \u001b[0;36m1\u001b[0m\u001b[0;34m\u001b[0m\u001b[0;34m\u001b[0m\u001b[0m\n\u001b[0;32m---> 18\u001b[0;31m     \u001b[0;34m(\u001b[0m\u001b[0mimg\u001b[0m\u001b[0;34m-\u001b[0m\u001b[0mmean\u001b[0m\u001b[0;34m)\u001b[0m\u001b[0;34m/\u001b[0m\u001b[0mnp\u001b[0m\u001b[0;34m.\u001b[0m\u001b[0mvar\u001b[0m\u001b[0;34m(\u001b[0m\u001b[0mimg\u001b[0m\u001b[0;34m)\u001b[0m\u001b[0;34m\u001b[0m\u001b[0;34m\u001b[0m\u001b[0m\n\u001b[0m\u001b[1;32m     19\u001b[0m \u001b[0;34m\u001b[0m\u001b[0m\n\u001b[1;32m     20\u001b[0m     \u001b[0mmean\u001b[0m\u001b[0;34m,\u001b[0m\u001b[0mtemp\u001b[0m \u001b[0;34m=\u001b[0m \u001b[0mcv2\u001b[0m\u001b[0;34m.\u001b[0m\u001b[0mmeanStdDev\u001b[0m\u001b[0;34m(\u001b[0m\u001b[0mred\u001b[0m\u001b[0;34m)\u001b[0m\u001b[0;34m\u001b[0m\u001b[0;34m\u001b[0m\u001b[0m\n",
            "\u001b[0;31mValueError\u001b[0m: operands could not be broadcast together with shapes (128,128,3) (3,1) "
          ]
        }
      ]
    },
    {
      "cell_type": "markdown",
      "metadata": {
        "id": "hfBO8TH9rqNt",
        "colab_type": "text"
      },
      "source": [
        "**Third Task**"
      ]
    },
    {
      "cell_type": "code",
      "metadata": {
        "id": "Gpix8UmkrkTn",
        "colab_type": "code",
        "colab": {}
      },
      "source": [
        "frequency, signalData = wavfile.read('Megalovania.wav') \n",
        "plot.figure(1)\n",
        "plot.subplot(211)\n",
        "\n",
        "plot.title('Spectogram of Megalovania')             #Naming the spectogram\n",
        "\n",
        "plot.subplot(211)\n",
        "\n",
        "plot.specgram(signalData,Fs=frequency)              #Creating the spectogram\n",
        "\n",
        "plot.xlabel('Time')                                 #Naming the X axis\n",
        "\n",
        "plot.ylabel('Frequency')                            #Naming the Y axis\n",
        "\n",
        "plot.show()"
      ],
      "execution_count": null,
      "outputs": []
    },
    {
      "cell_type": "markdown",
      "metadata": {
        "id": "iN_gJC_brsRh",
        "colab_type": "text"
      },
      "source": [
        "**Fourth Task**"
      ]
    },
    {
      "cell_type": "code",
      "metadata": {
        "id": "OrDZIcJgrj-0",
        "colab_type": "code",
        "colab": {}
      },
      "source": [
        "page = wikipedia.page(\"Deep learning\")\n",
        "\n",
        "print(page.content)                                 #printing the content of the Deep learning wikipedia page\n",
        "\n",
        "content = page.content.lower()                      #We change all the letters to lower case , this way we won't have to differentiate between lower case and upper case\n",
        "d = dict.fromkeys(string.ascii_lowercase, 0)        #Making a dictionary from the english alphabet\n",
        "for c in content:                                   #We Iterate through the content string and check every char if it's in the dictionary(letter of the alphabet) and if it is we increment it's counter by one\n",
        "    if c in d:\n",
        "        d[c] += 1\n",
        "\n",
        "\n",
        "plot.figure(2)\n",
        "plot.bar(d.keys(), d.values(), color='r')      #We set the X axis to the letters of the alphabet and the Y axis to there frequencys\n",
        "plot.show()"
      ],
      "execution_count": null,
      "outputs": []
    }
  ]
}